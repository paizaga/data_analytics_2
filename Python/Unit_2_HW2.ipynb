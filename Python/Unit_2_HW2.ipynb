{
  "nbformat": 4,
  "nbformat_minor": 0,
  "metadata": {
    "colab": {
      "name": "Unit_2_HW2.ipynb",
      "provenance": [],
      "collapsed_sections": [],
      "toc_visible": true,
      "authorship_tag": "ABX9TyPZjKqUAtLmbY9LYmc8/3ZI",
      "include_colab_link": true
    },
    "kernelspec": {
      "name": "python3",
      "display_name": "Python 3"
    },
    "language_info": {
      "name": "python"
    }
  },
  "cells": [
    {
      "cell_type": "markdown",
      "metadata": {
        "id": "view-in-github",
        "colab_type": "text"
      },
      "source": [
        "<a href=\"https://colab.research.google.com/github/paizaga/data_analytics_2/blob/main/%5CPython%5CUnit_2_HW2.ipynb\" target=\"_parent\"><img src=\"https://colab.research.google.com/assets/colab-badge.svg\" alt=\"Open In Colab\"/></a>"
      ]
    },
    {
      "cell_type": "markdown",
      "metadata": {
        "id": "uMXJEqsjcLGj"
      },
      "source": [
        "**Unit 2 Lesson 2**\n",
        "\n",
        "1.\tWhat is Python and why is it useful?\n",
        "\n",
        "Python is a general purpose programming language that focuses on code readability. In the context for this course, Python is favored in data science and data analytics because of better code readability and available data analaysis libraries, like Numpy and Pandas.\n",
        "\n",
        "\n",
        "\n",
        "---\n",
        "\n",
        "\n",
        "2.\tAre the following variable names allowed in python? <br>\n",
        "a.\t1_message - NOT allowed <br>\n",
        "b.\tGreeting_message - Allowed <br>\n",
        "c.\tMessage_1 - Allowed <br>\n",
        "d.\tFirst name - NOT allowed <br>\n",
        "e.\tFull_name - Allowed <br>\n",
        "\n",
        "\n",
        "---\n",
        "\n",
        "\n",
        "\n",
        "3.\tCreate a variable that holds the string “hello there!”\n",
        "\n",
        "variableString = \"hello there!\"\n",
        "\n",
        "---\n",
        "\n",
        "\n",
        "4.\tCreate a variable for first name, last name and an email extension.  Concatenating all three together to form an email address.  For example: firstnamelastname@gmail.com\n"
      ]
    },
    {
      "cell_type": "code",
      "metadata": {
        "colab": {
          "base_uri": "https://localhost:8080/"
        },
        "id": "_vmLCcNfgsV8",
        "outputId": "aaf1f5e1-e7cf-4dc3-d940-81a6be350500"
      },
      "source": [
        "firstName = \"Neil\"\n",
        "lastName = \"Tyson\"\n",
        "emailDomain = \"amnh.org\"\n",
        "eMail = firstName+lastName+\"@\"+emailDomain\n",
        "print(eMail)"
      ],
      "execution_count": 1,
      "outputs": [
        {
          "output_type": "stream",
          "text": [
            "NeilTyson@amnh.org\n"
          ],
          "name": "stdout"
        }
      ]
    },
    {
      "cell_type": "markdown",
      "metadata": {
        "id": "LSYiPVZyguTW"
      },
      "source": [
        "\n",
        "\n",
        "5.\tStore someone you know name in a variable called name.  Print their name in lower and uppercase using a method.\n"
      ]
    },
    {
      "cell_type": "code",
      "metadata": {
        "colab": {
          "base_uri": "https://localhost:8080/"
        },
        "id": "FnJIjAFWgjGM",
        "outputId": "72465b90-0903-4f73-e2cb-ca34077cb67c"
      },
      "source": [
        "name = \"Angelica\"\n",
        "\n",
        "class myMethod:\n",
        "  print(name.upper()+\"\\n\")\n",
        "  print(name.lower())\n",
        "\n",
        "myMethod()"
      ],
      "execution_count": 3,
      "outputs": [
        {
          "output_type": "stream",
          "text": [
            "ANGELICA\n",
            "\n",
            "angelica\n"
          ],
          "name": "stdout"
        },
        {
          "output_type": "execute_result",
          "data": {
            "text/plain": [
              "<__main__.myMethod at 0x7f2600b81710>"
            ]
          },
          "metadata": {
            "tags": []
          },
          "execution_count": 3
        }
      ]
    },
    {
      "cell_type": "markdown",
      "metadata": {
        "id": "rfSbNqsngyED"
      },
      "source": [
        "6.\tUsing a variable, ask your friend if they want to hang out on the 15th of the month.  For example, “Do you want to hang out on the 15th of this month?”  You should have to convert the number to a string."
      ]
    },
    {
      "cell_type": "code",
      "metadata": {
        "colab": {
          "base_uri": "https://localhost:8080/"
        },
        "id": "Ow1048yuhq4V",
        "outputId": "207cd6ac-fa8d-431f-b5a9-9c1e1990264b"
      },
      "source": [
        "date = 15\n",
        "question = \"Do you want to hang out on the \"+str(date)+\"th of this month?\"\n",
        "\n",
        "print(question)"
      ],
      "execution_count": 4,
      "outputs": [
        {
          "output_type": "stream",
          "text": [
            "Do you want to hang out on the 15th of this month?\n"
          ],
          "name": "stdout"
        }
      ]
    },
    {
      "cell_type": "markdown",
      "metadata": {
        "id": "7FoTeP2TcLm7"
      },
      "source": [
        "\n",
        "\n",
        "```\n",
        "# This is formatted as code\n",
        "```\n",
        "\n",
        "# New Section"
      ]
    },
    {
      "cell_type": "markdown",
      "metadata": {
        "id": "UIcRKjdNjx17"
      },
      "source": [
        "# New Section"
      ]
    }
  ]
}
