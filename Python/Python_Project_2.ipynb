{
  "nbformat": 4,
  "nbformat_minor": 0,
  "metadata": {
    "colab": {
      "name": "Python Project 2.ipynb",
      "provenance": [],
      "collapsed_sections": [],
      "authorship_tag": "ABX9TyOnR5jzSdVIDjnoTCyPrdS9",
      "include_colab_link": true
    },
    "kernelspec": {
      "name": "python3",
      "display_name": "Python 3"
    },
    "language_info": {
      "name": "python"
    }
  },
  "cells": [
    {
      "cell_type": "markdown",
      "metadata": {
        "id": "view-in-github",
        "colab_type": "text"
      },
      "source": [
        "<a href=\"https://colab.research.google.com/github/paizaga/data_analytics_2/blob/main/Python/Python_Project_2.ipynb\" target=\"_parent\"><img src=\"https://colab.research.google.com/assets/colab-badge.svg\" alt=\"Open In Colab\"/></a>"
      ]
    },
    {
      "cell_type": "markdown",
      "metadata": {
        "id": "Szr-5BpSdJR2"
      },
      "source": [
        "**Odd or Evens!**<br>\n",
        "\n",
        "Ask the user for a number. Depending on whether the number is even or odd, print out an appropriate message to the user. \n",
        "\n",
        "<br>\n",
        "\n",
        "Extras:<br>\n",
        "1) If the number is a multiple of 4, print out a different message.<br>\n",
        "2) Ask the user for two numbers: one number to check(call it num), and one number to divide by(call it check). If check divides evenly into the num, tell that to the user. If not, print a different appropriate message."
      ]
    },
    {
      "cell_type": "code",
      "metadata": {
        "colab": {
          "base_uri": "https://localhost:8080/"
        },
        "id": "5TPU3t-1dEfh",
        "outputId": "027247cd-69a6-4cf9-eca0-e4d439f7c892"
      },
      "source": [
        "num = int(input(\"Enter a number:\"))\n",
        "check = int(input(\"Enter a number to divide by:\"))\n",
        "\n",
        "if (num % check == 0) and (num % 2 == 0):\n",
        "  print (\"Divides evenly, and \"+str(num)+\" is an even number.\")\n",
        "\n",
        "elif (num % check == 0) and (num % 2 == 1):\n",
        "  print (\"Divides evenly, and \"+str(num)+\" is an odd number\")\n",
        "\n",
        "elif (num % check != 0) and (num % 2 == 0):\n",
        "  print (\"Does not divide evenly, and \" + str(num)+\" is an even number\")\n",
        "\n",
        "elif (num % check !=0) and (num % 2 == 1):\n",
        "  print (\"Does not divide evenly, and \" + str(num) +\" is an odd number\")\n",
        "\n",
        "if (num % 4 == 0 and (num % check == 0)):\n",
        "  print (str(num)+ \" is divisible by 4\")\n",
        "\n"
      ],
      "execution_count": 15,
      "outputs": [
        {
          "output_type": "stream",
          "text": [
            "Enter a number:89\n",
            "Enter a number to divide by:90\n",
            "Does not divide evenly, and 89 is an odd number\n",
            "error\n"
          ],
          "name": "stdout"
        }
      ]
    }
  ]
}