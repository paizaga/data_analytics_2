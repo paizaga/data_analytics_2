{
  "nbformat": 4,
  "nbformat_minor": 0,
  "metadata": {
    "colab": {
      "name": "Python Project 1.ipynb",
      "provenance": [],
      "collapsed_sections": [],
      "authorship_tag": "ABX9TyMjLN6V1ypTb0ewHzk9M9qq",
      "include_colab_link": true
    },
    "kernelspec": {
      "name": "python3",
      "display_name": "Python 3"
    },
    "language_info": {
      "name": "python"
    }
  },
  "cells": [
    {
      "cell_type": "markdown",
      "metadata": {
        "id": "view-in-github",
        "colab_type": "text"
      },
      "source": [
        "<a href=\"https://colab.research.google.com/github/paizaga/data_analytics_2/blob/main/Python/Python_Project_1.ipynb\" target=\"_parent\"><img src=\"https://colab.research.google.com/assets/colab-badge.svg\" alt=\"Open In Colab\"/></a>"
      ]
    },
    {
      "cell_type": "markdown",
      "metadata": {
        "id": "yNanKEIBK8L-"
      },
      "source": [
        "Make a two-player Rock Paper Scissors game. <br>\n",
        "Ask for player plays using input, compare them, print out a message of congratulations to the winner, and ask if the players want to start a new game."
      ]
    },
    {
      "cell_type": "code",
      "metadata": {
        "colab": {
          "base_uri": "https://localhost:8080/"
        },
        "id": "-kjkEqfuK5jZ",
        "outputId": "afe8a7ca-f1b3-43cd-a3f6-6bc02fe9711f"
      },
      "source": [
        "print (\"Rock, Paper, Scissors\\n\")\n",
        "\n",
        "continueGame = 2\n",
        "\n",
        "while continueGame != 0:\n",
        "\n",
        "  print (\"Player one, please enter a choice. Use r for Rock, p for Paper, and s for Scissors.\\n\")\n",
        "\n",
        "  playerOneInput = input (\"Enter your choice: \")\n",
        "\n",
        "  print (\"\\nPlayer two, please enter a choice in the same format as above.\")\n",
        "  playerTwoInput = input (\"Enter your choice:\")\n",
        "\n",
        "  print (\"\\n\")\n",
        "\n",
        "  if (playerOneInput == \"r\" and playerTwoInput == \"r\"):\n",
        "    print(\"Tie!\")\n",
        "\n",
        "  elif playerOneInput == \"r\" and playerTwoInput == \"p\":\n",
        "    print (\"Player Two Wins!\")\n",
        "\n",
        "  elif playerOneInput == \"p\" and playerTwoInput == \"r\":\n",
        "    print (\"Player One Wins!\")\n",
        "\n",
        "  elif playerOneInput == \"p\" and playerTwoInput == \"s\":\n",
        "    print (\"Player Two Wins!\")\n",
        "  \n",
        "  elif playerOneInput == \"s\" and playerTwoInput == \"p\":\n",
        "    print (\"Player One Wins!\")\n",
        "\n",
        "  elif playerOneInput == \"s\" and playerTwoINput == \"r\":\n",
        "    print (\"Player Two Wins!\")\n",
        "\n",
        "  else:\n",
        "    print (\"Tie!\")\n",
        "\n",
        "\n",
        "  print (\"Do you want to play again? Y/N\")\n",
        "  restart = input(\"Enter your choice:\")\n",
        "  if restart == \"N\" or restart == \"n\":\n",
        "      continueGame = 0\n",
        "\n",
        "\n",
        "\n",
        "\n",
        "\n"
      ],
      "execution_count": null,
      "outputs": [
        {
          "output_type": "stream",
          "text": [
            "Rock, Paper, Scissors\n",
            "\n",
            "Player one, please enter a choice. Use r for Rock, p for Paper, and s for Scissors.\n",
            "\n",
            "Enter your choice: r\n",
            "\n",
            "Player two, please enter a choice in the same format as above.\n",
            "Enter your choice:r\n",
            "\n",
            "\n",
            "Tie!\n",
            "Do you want to play again? Y/N\n",
            "Enter your choice:y\n",
            "Player one, please enter a choice. Use r for Rock, p for Paper, and s for Scissors.\n",
            "\n"
          ],
          "name": "stdout"
        }
      ]
    },
    {
      "cell_type": "code",
      "metadata": {
        "id": "Tzm9-wr5cQwQ"
      },
      "source": [
        ""
      ],
      "execution_count": null,
      "outputs": []
    }
  ]
}