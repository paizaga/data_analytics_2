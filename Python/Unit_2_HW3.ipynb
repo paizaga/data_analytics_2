{
  "nbformat": 4,
  "nbformat_minor": 0,
  "metadata": {
    "colab": {
      "name": "Unit_2_HW3.ipynb",
      "provenance": [],
      "collapsed_sections": [],
      "authorship_tag": "ABX9TyPpd0XICIDwsCq0N99Sj0j6",
      "include_colab_link": true
    },
    "kernelspec": {
      "name": "python3",
      "display_name": "Python 3"
    },
    "language_info": {
      "name": "python"
    }
  },
  "cells": [
    {
      "cell_type": "markdown",
      "metadata": {
        "id": "view-in-github",
        "colab_type": "text"
      },
      "source": [
        "<a href=\"https://colab.research.google.com/github/paizaga/data_analytics_2/blob/main/Python/Unit_2_HW3.ipynb\" target=\"_parent\"><img src=\"https://colab.research.google.com/assets/colab-badge.svg\" alt=\"Open In Colab\"/></a>"
      ]
    },
    {
      "cell_type": "markdown",
      "metadata": {
        "id": "xCft8Gall_oE"
      },
      "source": [
        "**Working with Lists**\n",
        "\n",
        "1. Create a list of 5 of your favorite TV shows.\n",
        "2. Print the list in its original order.\n",
        "3. Use the sorted() function to print the list in alphabetical order. How is sorted() different from sort()? <br>\n",
        "\n",
        "<br>\n",
        "\n",
        "4. Print out your original list.\n",
        "5. Use sorted() to print your list in reverse alphabetical order.\n",
        "6. Create a message indicating how many favorite TV shows you have - use the len() function.\n"
      ]
    },
    {
      "cell_type": "code",
      "metadata": {
        "colab": {
          "base_uri": "https://localhost:8080/"
        },
        "id": "V1EKj6I3mJY_",
        "outputId": "27e6ee38-dc78-4ee6-af56-7168528eb70e"
      },
      "source": [
        "faveTV = [\"The Good Place\", \"Firefly\", \"Friends\", \"Parks and Recreation\", \"Breaking Bad\"]\n",
        "print(\"Original List\\n\",faveTV)\n",
        "print(\"\\nSorted() List\\n\",sorted(faveTV),\"\\nSorted does not modify the original list. Sort() does.\")\n",
        "#sorted() does not affect the original list. sort() modifies the list\n",
        "print(\"\\nOriginal List again\\n\",faveTV)\n",
        "print(\"\\nSorted() in reverse\\n\",sorted(faveTV,reverse = True))\n",
        "print(\"\\nThe number of fave TV shows in my list:\",len(faveTV))"
      ],
      "execution_count": 15,
      "outputs": [
        {
          "output_type": "stream",
          "text": [
            "Original List\n",
            " ['The Good Place', 'Firefly', 'Friends', 'Parks and Recreation', 'Breaking Bad']\n",
            "\n",
            "Sorted() List\n",
            " ['Breaking Bad', 'Firefly', 'Friends', 'Parks and Recreation', 'The Good Place'] \n",
            "Sorted does not modify the original list. Sort() does.\n",
            "\n",
            "Original List again\n",
            " ['The Good Place', 'Firefly', 'Friends', 'Parks and Recreation', 'Breaking Bad']\n",
            "\n",
            "Sorted() in reverse\n",
            " ['The Good Place', 'Parks and Recreation', 'Friends', 'Firefly', 'Breaking Bad']\n",
            "\n",
            "The number of fave TV shows in my list: 5\n"
          ],
          "name": "stdout"
        }
      ]
    },
    {
      "cell_type": "code",
      "metadata": {
        "id": "8iRZo2unCNHt"
      },
      "source": [
        "\n"
      ],
      "execution_count": null,
      "outputs": []
    }
  ]
}