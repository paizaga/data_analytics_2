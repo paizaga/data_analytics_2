{
  "nbformat": 4,
  "nbformat_minor": 0,
  "metadata": {
    "colab": {
      "name": "Untitled1.ipynb",
      "provenance": [],
      "authorship_tag": "ABX9TyOcuoHw1syqBF/5z5w3gn4z",
      "include_colab_link": true
    },
    "kernelspec": {
      "name": "python3",
      "display_name": "Python 3"
    },
    "language_info": {
      "name": "python"
    }
  },
  "cells": [
    {
      "cell_type": "markdown",
      "metadata": {
        "id": "view-in-github",
        "colab_type": "text"
      },
      "source": [
        "<a href=\"https://colab.research.google.com/github/paizaga/data_analytics_2/blob/main/Untitled1.ipynb\" target=\"_parent\"><img src=\"https://colab.research.google.com/assets/colab-badge.svg\" alt=\"Open In Colab\"/></a>"
      ]
    },
    {
      "cell_type": "code",
      "metadata": {
        "colab": {
          "base_uri": "https://localhost:8080/"
        },
        "id": "QoBArA6F14TI",
        "outputId": "44b5ce44-772c-4287-b0de-415b0c9b79b7"
      },
      "source": [
        "favoriteFoods = [\"Pizza\", \"Brisket\", \"Sushi\"]\n",
        "print(favoriteFoods)\n",
        "\n",
        "print(\"\\n\")\n",
        "\n",
        "favoriteFoods.append(\"Lasagna\")\n",
        "print(favoriteFoods)\n",
        "\n",
        "print (\"\\n\")\n",
        "\n",
        "favoriteFoods.remove(\"Sushi\")\n",
        "print(favoriteFoods)\n",
        "\n",
        "print(\"\\n\")\n",
        "\n",
        "favoriteFoods.insert(0, \"Salami\")\n",
        "print(favoriteFoods)\n",
        "\n",
        "favoriteFoods.sort()\n",
        "print(favoriteFoods)\n",
        "\n",
        "favoriteFoods.sort(reverse = True)\n",
        "print(favoriteFoods)\n"
      ],
      "execution_count": 8,
      "outputs": [
        {
          "output_type": "stream",
          "text": [
            "['Pizza', 'Brisket', 'Sushi']\n",
            "\n",
            "\n",
            "['Pizza', 'Brisket', 'Sushi', 'Lasagna']\n",
            "\n",
            "\n",
            "['Pizza', 'Brisket', 'Lasagna']\n",
            "\n",
            "\n",
            "['Salami', 'Pizza', 'Brisket', 'Lasagna']\n",
            "['Brisket', 'Lasagna', 'Pizza', 'Salami']\n",
            "['Salami', 'Pizza', 'Lasagna', 'Brisket']\n"
          ],
          "name": "stdout"
        }
      ]
    },
    {
      "cell_type": "code",
      "metadata": {
        "id": "eanPdUuh3Cms"
      },
      "source": [
        ""
      ],
      "execution_count": null,
      "outputs": []
    }
  ]
}
