{
  "nbformat": 4,
  "nbformat_minor": 0,
  "metadata": {
    "colab": {
      "name": "Unit_2_L4.ipynb",
      "provenance": [],
      "collapsed_sections": [],
      "authorship_tag": "ABX9TyMwfF3jVTNuIp9F4PLGcwr1",
      "include_colab_link": true
    },
    "kernelspec": {
      "name": "python3",
      "display_name": "Python 3"
    },
    "language_info": {
      "name": "python"
    }
  },
  "cells": [
    {
      "cell_type": "markdown",
      "metadata": {
        "id": "view-in-github",
        "colab_type": "text"
      },
      "source": [
        "<a href=\"https://colab.research.google.com/github/paizaga/data_analytics_2/blob/main/Python/Unit_2_L4.ipynb\" target=\"_parent\"><img src=\"https://colab.research.google.com/assets/colab-badge.svg\" alt=\"Open In Colab\"/></a>"
      ]
    },
    {
      "cell_type": "markdown",
      "metadata": {
        "id": "ok9QnPGFGId5"
      },
      "source": [
        "1. Create a list that holds 5 data variables.\n",
        "2. Print out those variables by using a for loop\n",
        "3. Modify your for loop to add a message to your for loop\n",
        "4. Use a for loop to print even numbers from 1-20.\n",
        "5. Sort your list in alphabetic order.\n",
        "6. Print out the first three elements of your list.\n",
        "7. Create a loop to print the last two elements of your list."
      ]
    },
    {
      "cell_type": "code",
      "metadata": {
        "colab": {
          "base_uri": "https://localhost:8080/"
        },
        "id": "ZeJsBBeKGHRg",
        "outputId": "6bbb3247-d559-4470-eee3-ece72cb0c0a0"
      },
      "source": [
        "#1\n",
        "myList = [\"Tree\", \"Pine\", \"Computer\", \"Aircraft\", \"Python\"]\n",
        "\n",
        "#2\n",
        "for x in myList:\n",
        "  print (x)\n",
        "\n",
        "print(\"\\n\")\n",
        "\n",
        "#3\n",
        "for x in myList:\n",
        "  print (x)\n",
        "  if x == \"Pine\":\n",
        "   print (\"Tree\")\n",
        "  continue\n",
        " \n",
        "#4\n",
        "print (\"\\n\")\n",
        "for x in range (1, 20):\n",
        "  if x % 2 == 0:\n",
        "    print (x)\n",
        "\n",
        "#5\n",
        "myList.sort()\n",
        "print(myList)\n",
        "\n",
        "#6\n",
        "print(\"\\n\")\n",
        "for x in myList[0:3]:\n",
        "  print(x)\n",
        "\n",
        "#7\n",
        "print(\"\\n\")\n",
        "for x in myList[3:5]:\n",
        "  print(x)"
      ],
      "execution_count": 25,
      "outputs": [
        {
          "output_type": "stream",
          "text": [
            "Tree\n",
            "Pine\n",
            "Computer\n",
            "Aircraft\n",
            "Python\n",
            "\n",
            "\n",
            "Tree\n",
            "Pine\n",
            "Tree\n",
            "Computer\n",
            "Aircraft\n",
            "Python\n",
            "\n",
            "\n",
            "2\n",
            "4\n",
            "6\n",
            "8\n",
            "10\n",
            "12\n",
            "14\n",
            "16\n",
            "18\n",
            "['Aircraft', 'Computer', 'Pine', 'Python', 'Tree']\n",
            "\n",
            "\n",
            "Aircraft\n",
            "Computer\n",
            "Pine\n",
            "\n",
            "\n",
            "Python\n",
            "Tree\n"
          ],
          "name": "stdout"
        }
      ]
    }
  ]
}