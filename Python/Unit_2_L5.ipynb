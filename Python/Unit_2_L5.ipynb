{
  "nbformat": 4,
  "nbformat_minor": 0,
  "metadata": {
    "colab": {
      "name": "Unit_2_L5.ipynb",
      "provenance": [],
      "collapsed_sections": [],
      "authorship_tag": "ABX9TyM4V34NVTuMmSHdc24Gz6qo",
      "include_colab_link": true
    },
    "kernelspec": {
      "name": "python3",
      "display_name": "Python 3"
    },
    "language_info": {
      "name": "python"
    }
  },
  "cells": [
    {
      "cell_type": "markdown",
      "metadata": {
        "id": "view-in-github",
        "colab_type": "text"
      },
      "source": [
        "<a href=\"https://colab.research.google.com/github/paizaga/data_analytics_2/blob/main/Python/Unit_2_L5.ipynb\" target=\"_parent\"><img src=\"https://colab.research.google.com/assets/colab-badge.svg\" alt=\"Open In Colab\"/></a>"
      ]
    },
    {
      "cell_type": "markdown",
      "metadata": {
        "id": "KlzfsVBUN9K1"
      },
      "source": [
        "**Lesson 5 - If - elif - else Statements**\n",
        "\n",
        "1. Make a list of 5 or more usernames, including an admin account. Imagine you are writing code that will welcome people to your application on login. Loop through the list and print your greeting.\n",
        "\n",
        "a) if the admin account logs in, give them a special greeting. \n",
        "\n",
        "b) Other users can get the generic greeting."
      ]
    },
    {
      "cell_type": "code",
      "metadata": {
        "colab": {
          "base_uri": "https://localhost:8080/"
        },
        "id": "LEjtfh45N50v",
        "outputId": "5640e56e-0694-4725-ae2b-a1b8787239ae"
      },
      "source": [
        "userNames = [\"admin\", \"guest\", \"a.einstein\", \"julie\", \"raul\"]\n",
        "\n",
        "adminGreeting = \"Welcome. You are logged into the admin account. There are currently \"+str(len(userNames))+\" user accounts on the system.\"\n",
        "\n",
        "for x in userNames:\n",
        "  print(x)\n",
        "  if x == \"admin\":\n",
        "    print(adminGreeting,\"\\n\")\n",
        "  else:\n",
        "      print(\"Welcome,\",x,\"\\n\")"
      ],
      "execution_count": 25,
      "outputs": [
        {
          "output_type": "stream",
          "text": [
            "admin\n",
            "Welcome. You are logged into the admin account. There are currently 5 user accounts on the system. \n",
            "\n",
            "guest\n",
            "Welcome, guest \n",
            "\n",
            "a.einstein\n",
            "Welcome, a.einstein \n",
            "\n",
            "julie\n",
            "Welcome, julie \n",
            "\n",
            "raul\n",
            "Welcome, raul \n",
            "\n"
          ],
          "name": "stdout"
        }
      ]
    },
    {
      "cell_type": "markdown",
      "metadata": {
        "id": "oTT84R2YXLZ_"
      },
      "source": [
        "2. Store numbers 1-10 in a list.\n",
        "a) Loop through the list\n",
        "b) Use an if-elif-else chain inside your loop to print the ordinal ending for each number. For example, 1st, 2nd, 3rd, etc,\n"
      ]
    },
    {
      "cell_type": "code",
      "metadata": {
        "colab": {
          "base_uri": "https://localhost:8080/"
        },
        "id": "wSrW-x2WXbaJ",
        "outputId": "03586e81-383d-4a0f-db06-72459fd2d5b5"
      },
      "source": [
        "numbers = [1,2,3,4,5,6,7,8,9,10]\n",
        "\n",
        "for x in numbers:\n",
        "  if x == 1:\n",
        "    print(str(x)+\"st\")\n",
        "  elif x == 2:\n",
        "    print(str(x)+\"nd\")\n",
        "  elif x == 3:\n",
        "    print (str(x)+\"rd\")\n",
        "  else:\n",
        "    print(str(x)+\"th\")"
      ],
      "execution_count": 29,
      "outputs": [
        {
          "output_type": "stream",
          "text": [
            "1st\n",
            "2nd\n",
            "3rd\n",
            "4th\n",
            "5th\n",
            "6th\n",
            "7th\n",
            "8th\n",
            "9th\n",
            "10th\n"
          ],
          "name": "stdout"
        }
      ]
    }
  ]
}