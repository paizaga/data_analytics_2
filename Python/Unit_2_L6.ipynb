{
  "nbformat": 4,
  "nbformat_minor": 0,
  "metadata": {
    "colab": {
      "name": "Unit_2_L6.ipynb",
      "provenance": [],
      "collapsed_sections": [],
      "authorship_tag": "ABX9TyOtjGoo/5OKVolzr56R2vw7",
      "include_colab_link": true
    },
    "kernelspec": {
      "name": "python3",
      "display_name": "Python 3"
    },
    "language_info": {
      "name": "python"
    }
  },
  "cells": [
    {
      "cell_type": "markdown",
      "metadata": {
        "id": "view-in-github",
        "colab_type": "text"
      },
      "source": [
        "<a href=\"https://colab.research.google.com/github/paizaga/data_analytics_2/blob/main/Python/Unit_2_L6.ipynb\" target=\"_parent\"><img src=\"https://colab.research.google.com/assets/colab-badge.svg\" alt=\"Open In Colab\"/></a>"
      ]
    },
    {
      "cell_type": "markdown",
      "metadata": {
        "id": "bqRRbcL_Y0tf"
      },
      "source": [
        "**Unit 2 - Python Dictionaries**\n",
        "\n",
        "1) Create a simple dictionary that stores 2 variables, for example: first and last name\n",
        "\n",
        "2) Print out those variables stored in your previous dictionary\n",
        "\n",
        "3) Add a message to those variables on printing: for example, \"Hello, firstname lastname!\""
      ]
    },
    {
      "cell_type": "code",
      "metadata": {
        "colab": {
          "base_uri": "https://localhost:8080/"
        },
        "id": "WIwSVLcvYYnR",
        "outputId": "8dca9de5-df04-4b28-9d63-82478d6bac29"
      },
      "source": [
        "#dictionaries store key:value paires\n",
        "\n",
        "myDict = {\n",
        "    \"Joanne\": \"Rowling\",\n",
        "}\n",
        "\n",
        "print(myDict, \"\\n\")\n",
        "\n",
        "for key, value in myDict.items():\n",
        "  print (\"Hello,\",key,value)\n"
      ],
      "execution_count": 8,
      "outputs": [
        {
          "output_type": "stream",
          "text": [
            "{'Joanne': 'Rowling'} \n",
            "\n",
            "Hello, Joanne Rowling\n"
          ],
          "name": "stdout"
        }
      ]
    },
    {
      "cell_type": "markdown",
      "metadata": {
        "id": "ka3qR6A5ENGR"
      },
      "source": [
        "4) Create a dictionary that holds 2 key:value pairs:<br>\n",
        "a) Look through your dictionary and print each pair"
      ]
    },
    {
      "cell_type": "code",
      "metadata": {
        "colab": {
          "base_uri": "https://localhost:8080/"
        },
        "id": "9kyvcA5METZd",
        "outputId": "fbe066fd-c3fb-49b1-a3a1-b918b2cb502c"
      },
      "source": [
        "myDict = {\n",
        "    \"key1\": \"value1\",\n",
        "    \"key2\": \"value2\"\n",
        "}\n",
        "\n",
        "print (myDict,\"\\n\")\n",
        "\n",
        "for key,value in myDict.items():\n",
        "  print (key,value)"
      ],
      "execution_count": 10,
      "outputs": [
        {
          "output_type": "stream",
          "text": [
            "{'key1': 'value1', 'key2': 'value2'} \n",
            "\n",
            "key1 value1\n",
            "key2 value2\n"
          ],
          "name": "stdout"
        }
      ]
    },
    {
      "cell_type": "markdown",
      "metadata": {
        "id": "auUNCsLhE-fH"
      },
      "source": [
        "5) Create a nested dictionary containing three dictionaries - these dictionaries could be anything (favorite pets, travel locations, etc)\n",
        "<br>\n",
        "a) Loop through the dictionaries and print a message for each"
      ]
    },
    {
      "cell_type": "code",
      "metadata": {
        "colab": {
          "base_uri": "https://localhost:8080/"
        },
        "id": "Phql7-PxFH5b",
        "outputId": "b4553a47-f70d-4e64-84d7-27b0b10b54a5"
      },
      "source": [
        "nestedDict = {\n",
        "    \"favePets\": {\"cat\":\"salem\"},\n",
        "    \"faveLocs\": {\"Japan\":\"Tokyo\"},\n",
        "    \"faveClouds\": {\"Cloud\":\"Cirrus\"}\n",
        "\n",
        "\n",
        "}\n",
        "\n",
        "for i in nestedDict:\n",
        "  for key, value in nestedDict[i].items():\n",
        "    print (key, value)"
      ],
      "execution_count": 17,
      "outputs": [
        {
          "output_type": "stream",
          "text": [
            "cat salem\n",
            "Japan Tokyo\n",
            "Cloud Cirrus\n"
          ],
          "name": "stdout"
        }
      ]
    }
  ]
}